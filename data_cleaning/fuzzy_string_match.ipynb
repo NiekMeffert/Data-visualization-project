{
 "cells": [
  {
   "cell_type": "code",
   "execution_count": 8,
   "metadata": {},
   "outputs": [],
   "source": [
    "import pandas as pd\n",
    "import os"
   ]
  },
  {
   "cell_type": "code",
   "execution_count": 11,
   "metadata": {},
   "outputs": [
    {
     "name": "stdout",
     "output_type": "stream",
     "text": [
      "Working directiory is: c:\\Users\\kagecomputer 2\\Documents\\GitHub\\Data-visualization-project\\data_cleaning\n",
      "c:\\Users\\kagecomputer 2\\Documents\\GitHub\\Data-visualization-project\\data_cleaning\\data\\text-en_clean\n",
      "c:\\Users\\kagecomputer 2\\Documents\\GitHub\\Data-visualization-project\\data_cleaning\\data\\clean_data2.json\n"
     ]
    }
   ],
   "source": [
    "# Set paths\n",
    "# Set working directory and paths\n",
    "cwd = os.getcwd()\n",
    "print('Working directiory is: '+cwd)\n",
    "p = os.path.join(cwd,'data')\n",
    "path_shape = os.path.join(p,'SS_Camps_Definitive.csv')\n",
    "path_df = os.path.join(p,'clean_data2.json')\n",
    "print(path_text)\n",
    "print(path_df)"
   ]
  },
  {
   "cell_type": "code",
   "execution_count": 12,
   "metadata": {},
   "outputs": [],
   "source": [
    "# Import dataframe\n",
    "my_df = pd.read_json(path_df, orient='split')"
   ]
  },
  {
   "cell_type": "code",
   "execution_count": 15,
   "metadata": {},
   "outputs": [],
   "source": [
    "# Import database from shape file\n",
    "shape_df = pd.read_csv(path_shape)"
   ]
  },
  {
   "cell_type": "code",
   "execution_count": 21,
   "metadata": {},
   "outputs": [],
   "source": [
    "# Find columns with main camp names\n",
    "main_camps = shape_df['MAIN'].unique()"
   ]
  },
  {
   "cell_type": "code",
   "execution_count": 20,
   "metadata": {},
   "outputs": [],
   "source": [
    "subcamps = shape_df['SUBCAMP'].unique()"
   ]
  },
  {
   "cell_type": "code",
   "execution_count": 22,
   "metadata": {},
   "outputs": [
    {
     "data": {
      "text/plain": [
       "array(['Auschwitz', 'Bergen-Belsen', 'Buchenwald', 'Early', 'Gross Rosen',\n",
       "       'Kauen', 'Lublin', 'Natzweiler', 'Ravensbrück', 'Riga-Kaiserwald',\n",
       "       'Sachsenhausen', 'Wewelsburg', 'Dachau', 'Flossenbürg',\n",
       "       'Mauthausen', 'Hinzert', 'Krakau-Plaszów', 'Neuengamme',\n",
       "       'Herzogenbusch', 'Mittelbau', 'SS-Baubrigaden', 'Stutthof',\n",
       "       'Vaivara', 'Youth Camp', 'Warschau', 'Arbeitsdorf'], dtype=object)"
      ]
     },
     "execution_count": 22,
     "metadata": {},
     "output_type": "execute_result"
    }
   ],
   "source": [
    "main_camps"
   ]
  },
  {
   "cell_type": "code",
   "execution_count": 23,
   "metadata": {},
   "outputs": [
    {
     "data": {
      "text/plain": [
       "26"
      ]
     },
     "execution_count": 23,
     "metadata": {},
     "output_type": "execute_result"
    }
   ],
   "source": [
    "len(main_camps)"
   ]
  },
  {
   "cell_type": "code",
   "execution_count": 24,
   "metadata": {},
   "outputs": [
    {
     "data": {
      "text/plain": [
       "1108"
      ]
     },
     "execution_count": 24,
     "metadata": {},
     "output_type": "execute_result"
    }
   ],
   "source": [
    "len(subcamps)"
   ]
  }
 ],
 "metadata": {
  "kernelspec": {
   "display_name": "Python 3",
   "language": "python",
   "name": "python3"
  },
  "language_info": {
   "codemirror_mode": {
    "name": "ipython",
    "version": 3
   },
   "file_extension": ".py",
   "mimetype": "text/x-python",
   "name": "python",
   "nbconvert_exporter": "python",
   "pygments_lexer": "ipython3",
   "version": "3.11.2"
  }
 },
 "nbformat": 4,
 "nbformat_minor": 2
}
