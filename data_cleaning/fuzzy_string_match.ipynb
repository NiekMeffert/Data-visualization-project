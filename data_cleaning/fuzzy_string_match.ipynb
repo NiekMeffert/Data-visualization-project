{
 "cells": [
  {
   "cell_type": "code",
   "execution_count": 44,
   "metadata": {},
   "outputs": [],
   "source": [
    "import pandas as pd\n",
    "import os\n",
    "import thefuzz\n",
    "import numpy as np"
   ]
  },
  {
   "cell_type": "code",
   "execution_count": 4,
   "metadata": {},
   "outputs": [
    {
     "name": "stdout",
     "output_type": "stream",
     "text": [
      "Working directiory is: c:\\Users\\kagecomputer 2\\Documents\\GitHub\\Data-visualization-project\\data_cleaning\n",
      "c:\\Users\\kagecomputer 2\\Documents\\GitHub\\Data-visualization-project\\data_cleaning\\data\\clean_data2.json\n"
     ]
    }
   ],
   "source": [
    "# Set paths\n",
    "# Set working directory and paths\n",
    "cwd = os.getcwd()\n",
    "print('Working directiory is: '+cwd)\n",
    "p = os.path.join(cwd,'data')\n",
    "path_shape = os.path.join(p,'SS_Camps_Definitive.csv')\n",
    "path_df = os.path.join(p,'clean_data2.json')\n",
    "\n",
    "print(path_df)"
   ]
  },
  {
   "cell_type": "code",
   "execution_count": 62,
   "metadata": {},
   "outputs": [],
   "source": [
    "# Import OG dataframe\n",
    "metadata = pd.read_csv(\"data/testimonies-en.csv\", sep=\"\\t\", na_values=\"unknown\")\n"
   ]
  },
  {
   "cell_type": "code",
   "execution_count": 66,
   "metadata": {},
   "outputs": [],
   "source": [
    "# Make Camps_list column\n",
    "spl = lambda x: x.split(', ') # make lambda function\n",
    "metadata['Camps_list'] = metadata['Camps'].map(spl, na_action='ignore') # Use mapping\n",
    "l = list(range(len(metadata)))\n",
    "metadata.index = l # Correct indexes so no numbers are missing"
   ]
  },
  {
   "cell_type": "code",
   "execution_count": 5,
   "metadata": {},
   "outputs": [],
   "source": [
    "# Import dataframe\n",
    "my_df = pd.read_json(path_df, orient='split')"
   ]
  },
  {
   "cell_type": "code",
   "execution_count": 6,
   "metadata": {},
   "outputs": [],
   "source": [
    "# Import database from shape file\n",
    "shape_df = pd.read_csv(path_shape)"
   ]
  },
  {
   "cell_type": "code",
   "execution_count": 7,
   "metadata": {},
   "outputs": [],
   "source": [
    "# Find columns with main camp names\n",
    "main_camps = shape_df['MAIN'].unique()"
   ]
  },
  {
   "cell_type": "code",
   "execution_count": 8,
   "metadata": {},
   "outputs": [],
   "source": [
    "subcamps = shape_df['SUBCAMP'].unique()"
   ]
  },
  {
   "cell_type": "code",
   "execution_count": 9,
   "metadata": {},
   "outputs": [
    {
     "data": {
      "text/plain": [
       "array(['Auschwitz', 'Bergen-Belsen', 'Buchenwald', 'Early', 'Gross Rosen',\n",
       "       'Kauen', 'Lublin', 'Natzweiler', 'Ravensbrück', 'Riga-Kaiserwald',\n",
       "       'Sachsenhausen', 'Wewelsburg', 'Dachau', 'Flossenbürg',\n",
       "       'Mauthausen', 'Hinzert', 'Krakau-Plaszów', 'Neuengamme',\n",
       "       'Herzogenbusch', 'Mittelbau', 'SS-Baubrigaden', 'Stutthof',\n",
       "       'Vaivara', 'Youth Camp', 'Warschau', 'Arbeitsdorf'], dtype=object)"
      ]
     },
     "execution_count": 9,
     "metadata": {},
     "output_type": "execute_result"
    }
   ],
   "source": [
    "main_camps"
   ]
  },
  {
   "cell_type": "code",
   "execution_count": 23,
   "metadata": {},
   "outputs": [
    {
     "data": {
      "text/plain": [
       "26"
      ]
     },
     "execution_count": 23,
     "metadata": {},
     "output_type": "execute_result"
    }
   ],
   "source": [
    "len(main_camps)"
   ]
  },
  {
   "cell_type": "code",
   "execution_count": 24,
   "metadata": {},
   "outputs": [
    {
     "data": {
      "text/plain": [
       "1108"
      ]
     },
     "execution_count": 24,
     "metadata": {},
     "output_type": "execute_result"
    }
   ],
   "source": [
    "len(subcamps)"
   ]
  },
  {
   "cell_type": "code",
   "execution_count": 76,
   "metadata": {},
   "outputs": [
    {
     "name": "stdout",
     "output_type": "stream",
     "text": [
      "<class 'list'>\n",
      "Bergen - Belsen\n",
      "<class 'list'>\n",
      "St.Martin\n",
      "Mauthausen\n",
      "Günskirchen\n",
      "<class 'list'>\n",
      "Engerau\n",
      "Mauthausen\n",
      "Günskirchen\n",
      "<class 'list'>\n",
      "Bruck a./L\n",
      "Mauthausen\n",
      "Günskirchen\n",
      "<class 'list'>\n",
      "Bergen - Belsen\n",
      "<class 'list'>\n",
      "Auschwitz\n",
      "<class 'list'>\n",
      "Fertőrákos\n",
      "Deutschschützen\n",
      "Mauthausen\n",
      "Günskirchen\n",
      "<class 'list'>\n",
      "Mauthausen\n",
      "Günskirchen\n",
      "<class 'list'>\n",
      "Lanzberg\n",
      "Türkheim\n",
      "Kaufering\n",
      "Mildorf\n",
      "<class 'list'>\n",
      "Auschwitz - Torgau\n",
      "<class 'list'>\n",
      "Auschwitz - Torgau\n",
      "<class 'list'>\n",
      "Auschwitz - Torgau\n",
      "<class 'list'>\n",
      "Auschwitz - Torgau\n",
      "<class 'list'>\n",
      "Auschwitz - Torgau\n",
      "<class 'list'>\n",
      "Auschwitz - Torgau\n",
      "<class 'list'>\n",
      "Auschwitz\n",
      "Varsó\n",
      "Mühldorf\n",
      "Mittelgarst\n",
      "<class 'list'>\n",
      "Mauthausen\n",
      "Günskirchen\n",
      "<class 'list'>\n",
      "Auschwitz\n",
      "Stutthof\n",
      "Bomgarten\n",
      "Lubics\n",
      "Friedenswald\n",
      "Prost\n",
      "Lamburg\n",
      "<class 'list'>\n",
      "Auschwitz\n",
      "Mettenheim\n",
      "<class 'list'>\n",
      "Sopron\n",
      "Siegendorf\n",
      "<class 'list'>\n",
      "Auschwitz\n",
      "Krakkó\n",
      "Auschwitz\n",
      "Neustadt\n",
      "Grossrosen\n",
      "Mathausen\n",
      "Bergen - Belsen\n",
      "<class 'list'>\n",
      "Auschwitz\n",
      "Krakkó\n",
      "Auschwitz\n",
      "Neustadt\n",
      "Grossrosen\n",
      "Mathausen\n",
      "Bergen - Belsen\n",
      "<class 'list'>\n",
      "Auschwitz\n",
      "Neusalz\n",
      "<class 'list'>\n",
      "Birkenau\n",
      "Wüstegiessdorf\n",
      "Hildesheim\n",
      "Ahlem\n",
      "<class 'list'>\n",
      "Auschwitz\n",
      "Weisswasser\n",
      "Harneburg\n",
      "Bergen - Belsen\n",
      "<class 'list'>\n",
      "Auschwitz\n",
      "Weisswasser\n",
      "Harneburg\n",
      "Bergen - Belsen\n",
      "<class 'list'>\n",
      "Wappendorf\n",
      "Mauthausen\n",
      "<class 'list'>\n",
      "Birkenau\n",
      "Auschwitz\n",
      "Buna\n",
      "Buchenwald\n",
      "Theresienstadt\n",
      "<class 'list'>\n",
      "Ravensbrück\n",
      "Gelenau\n",
      "Mauthausen\n",
      "<class 'list'>\n",
      "Ravensbrück\n",
      "Gelenau\n",
      "Mauthausen\n",
      "<class 'list'>\n",
      "Auschwitz\n",
      "Lieberstadt\n",
      "<class 'list'>\n",
      "Oranienburg\n",
      "Sachsenhausen\n",
      "<class 'list'>\n",
      "Birkenau\n",
      "Auschwitz\n",
      "Dachau\n",
      "Mildorf\n",
      "<class 'list'>\n",
      "Auschwitz\n",
      "Allendorf\n",
      "<class 'list'>\n",
      "Auschwitz\n",
      "Allendorf\n",
      "<class 'float'>\n"
     ]
    },
    {
     "ename": "TypeError",
     "evalue": "object of type 'float' has no len()",
     "output_type": "error",
     "traceback": [
      "\u001b[1;31m---------------------------------------------------------------------------\u001b[0m",
      "\u001b[1;31mTypeError\u001b[0m                                 Traceback (most recent call last)",
      "Cell \u001b[1;32mIn[76], line 6\u001b[0m\n\u001b[0;32m      4\u001b[0m \u001b[38;5;28;01melse\u001b[39;00m:\n\u001b[0;32m      5\u001b[0m     \u001b[38;5;28mprint\u001b[39m(\u001b[38;5;28mtype\u001b[39m(row[\u001b[38;5;124m'\u001b[39m\u001b[38;5;124mCamps_list\u001b[39m\u001b[38;5;124m'\u001b[39m]))\n\u001b[1;32m----> 6\u001b[0m     \u001b[38;5;28;01mfor\u001b[39;00m i \u001b[38;5;129;01min\u001b[39;00m \u001b[38;5;28mrange\u001b[39m(\u001b[38;5;28mlen\u001b[39m(row[\u001b[38;5;124m'\u001b[39m\u001b[38;5;124mCamps_list\u001b[39m\u001b[38;5;124m'\u001b[39m])):\n\u001b[0;32m      7\u001b[0m         \u001b[38;5;28mprint\u001b[39m(row[\u001b[38;5;124m'\u001b[39m\u001b[38;5;124mCamps_list\u001b[39m\u001b[38;5;124m'\u001b[39m][i])\n",
      "\u001b[1;31mTypeError\u001b[0m: object of type 'float' has no len()"
     ]
    }
   ],
   "source": [
    "for index,row in metadata.iterrows():\n",
    "    if row['Camps_list'] == 'nan':\n",
    "        print('is nan')\n",
    "    else:\n",
    "        print(type(row['Camps_list']))\n",
    "        for i in range(len(row['Camps_list'])):\n",
    "            print(row['Camps_list'][i])"
   ]
  },
  {
   "cell_type": "code",
   "execution_count": 14,
   "metadata": {},
   "outputs": [
    {
     "ename": "AttributeError",
     "evalue": "'numpy.ndarray' object has no attribute 'apply'",
     "output_type": "error",
     "traceback": [
      "\u001b[1;31m---------------------------------------------------------------------------\u001b[0m",
      "\u001b[1;31mAttributeError\u001b[0m                            Traceback (most recent call last)",
      "Cell \u001b[1;32mIn[14], line 3\u001b[0m\n\u001b[0;32m      1\u001b[0m \u001b[38;5;28;01mfrom\u001b[39;00m \u001b[38;5;21;01mthefuzz\u001b[39;00m \u001b[38;5;28;01mimport\u001b[39;00m process\n\u001b[1;32m----> 3\u001b[0m main_camps_new \u001b[38;5;241m=\u001b[39m \u001b[43mmain_camps\u001b[49m\u001b[38;5;241;43m.\u001b[39;49m\u001b[43mapply\u001b[49m(\n\u001b[0;32m      4\u001b[0m   \u001b[38;5;28;01mlambda\u001b[39;00m x: process\u001b[38;5;241m.\u001b[39mextract(x, subcamps, scorer\u001b[38;5;241m=\u001b[39mfuzz\u001b[38;5;241m.\u001b[39mpartial_ratio)[\u001b[38;5;241m0\u001b[39m]\n\u001b[0;32m      5\u001b[0m )\n",
      "\u001b[1;31mAttributeError\u001b[0m: 'numpy.ndarray' object has no attribute 'apply'"
     ]
    }
   ],
   "source": []
  },
  {
   "cell_type": "code",
   "execution_count": null,
   "metadata": {},
   "outputs": [],
   "source": []
  }
 ],
 "metadata": {
  "kernelspec": {
   "display_name": "Python 3",
   "language": "python",
   "name": "python3"
  },
  "language_info": {
   "codemirror_mode": {
    "name": "ipython",
    "version": 3
   },
   "file_extension": ".py",
   "mimetype": "text/x-python",
   "name": "python",
   "nbconvert_exporter": "python",
   "pygments_lexer": "ipython3",
   "version": "3.11.2"
  }
 },
 "nbformat": 4,
 "nbformat_minor": 2
}
